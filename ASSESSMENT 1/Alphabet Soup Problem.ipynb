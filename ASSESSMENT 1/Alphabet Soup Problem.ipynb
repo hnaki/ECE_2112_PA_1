{
 "cells": [
  {
   "cell_type": "code",
   "execution_count": 20,
   "id": "2fbb1dae-8d42-4f78-9346-1ed7c4940207",
   "metadata": {},
   "outputs": [
    {
     "name": "stdout",
     "output_type": "stream",
     "text": [
      "  a B c h i n o P s s t y\n"
     ]
    }
   ],
   "source": [
    "#Create a function that will sort the string alphabetically\n",
    "def sort(input_string):\n",
    "    # Sort the characters in the string alphabetically, ignoring the letter case\n",
    "    x = ' '.join(sorted(input_string, key=str.lower))\n",
    "    #return the sorted string\n",
    "    return x\n",
    "\n",
    "#test the function\n",
    "result = sort(\"Python Basics\")\n",
    "#print the result\n",
    "print(result)"
   ]
  },
  {
   "cell_type": "code",
   "execution_count": null,
   "id": "ea290090-a227-417a-8584-e06167b0839c",
   "metadata": {},
   "outputs": [],
   "source": []
  }
 ],
 "metadata": {
  "kernelspec": {
   "display_name": "Python 3 (ipykernel)",
   "language": "python",
   "name": "python3"
  },
  "language_info": {
   "codemirror_mode": {
    "name": "ipython",
    "version": 3
   },
   "file_extension": ".py",
   "mimetype": "text/x-python",
   "name": "python",
   "nbconvert_exporter": "python",
   "pygments_lexer": "ipython3",
   "version": "3.12.4"
  }
 },
 "nbformat": 4,
 "nbformat_minor": 5
}
