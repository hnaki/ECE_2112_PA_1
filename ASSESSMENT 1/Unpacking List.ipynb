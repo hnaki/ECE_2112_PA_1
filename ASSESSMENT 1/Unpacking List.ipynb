{
 "cells": [
  {
   "cell_type": "code",
   "execution_count": 7,
   "id": "f95fc6e7-3823-4cb7-a1ce-30c60c43aaec",
   "metadata": {},
   "outputs": [
    {
     "name": "stdout",
     "output_type": "stream",
     "text": [
      "First: 1\n",
      "Middle: [2, 3, 4, 5, 6, 7]\n",
      "Last: 8\n"
     ]
    }
   ],
   "source": [
    "#Create a function to unpack a list\n",
    "def unpack_list(numbers):\n",
    "    \n",
    "    # Unpack the list into first, middle, and last (*unpacks everything in the middle)\n",
    "    first, *middle, last = numbers\n",
    "    \n",
    "    # Print the variables\n",
    "    print(\"First:\", first)\n",
    "    print(\"Middle:\", middle)\n",
    "    print(\"Last:\", last)\n",
    "\n",
    "#check if the function works by adding an example list\n",
    "numbers = [1, 2, 3, 4, 5, 6,7,8]\n",
    "#callout the function\n",
    "unpack_list(numbers)"
   ]
  },
  {
   "cell_type": "code",
   "execution_count": null,
   "id": "ed5998e2-5df0-4cad-bff8-fecf389bf1c4",
   "metadata": {},
   "outputs": [],
   "source": []
  }
 ],
 "metadata": {
  "kernelspec": {
   "display_name": "Python 3 (ipykernel)",
   "language": "python",
   "name": "python3"
  },
  "language_info": {
   "codemirror_mode": {
    "name": "ipython",
    "version": 3
   },
   "file_extension": ".py",
   "mimetype": "text/x-python",
   "name": "python",
   "nbconvert_exporter": "python",
   "pygments_lexer": "ipython3",
   "version": "3.12.4"
  }
 },
 "nbformat": 4,
 "nbformat_minor": 5
}
