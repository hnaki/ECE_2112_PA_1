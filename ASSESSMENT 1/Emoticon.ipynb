{
 "cells": [
  {
   "cell_type": "code",
   "execution_count": 1,
   "id": "3e110cfd-5be4-452f-ba9b-e48d3dca3783",
   "metadata": {},
   "outputs": [
    {
     "name": "stdout",
     "output_type": "stream",
     "text": [
      "I am so so so >:(\n",
      "Make me :((\n"
     ]
    }
   ],
   "source": [
    "#Make a function for the emotes\n",
    "def emotes (sentence):\n",
    "    #Make a dictionary for each word that corresponds to the right emoticon\n",
    "    emoticons = {\"smile\": \":)\", \"grin\": \":D\",  \"sad\": \":((\", \"mad\": \">:(\"}\n",
    "    \n",
    "    #split the sentence into words\n",
    "    words = sentence.split()\n",
    "    #check the word if it matches the dictionary\n",
    "    result = [emoticons[word.lower()] if word.lower() in emoticons else word for word in words]\n",
    "\n",
    "    #join the words back into a string\n",
    "    return ' '.join(result)\n",
    "\n",
    "#Print examples\n",
    "print(emotes(\"I am so so so mad\"))\n",
    "print(emotes(\"Make me sad\"))"
   ]
  },
  {
   "cell_type": "code",
   "execution_count": null,
   "id": "616f0d72-a557-4a11-915f-bf9a932f74cc",
   "metadata": {},
   "outputs": [],
   "source": []
  }
 ],
 "metadata": {
  "kernelspec": {
   "display_name": "Python 3 (ipykernel)",
   "language": "python",
   "name": "python3"
  },
  "language_info": {
   "codemirror_mode": {
    "name": "ipython",
    "version": 3
   },
   "file_extension": ".py",
   "mimetype": "text/x-python",
   "name": "python",
   "nbconvert_exporter": "python",
   "pygments_lexer": "ipython3",
   "version": "3.12.4"
  }
 },
 "nbformat": 4,
 "nbformat_minor": 5
}
